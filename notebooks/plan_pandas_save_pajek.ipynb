{
 "cells": [
  {
   "cell_type": "code",
   "execution_count": 1,
   "metadata": {
    "ExecuteTime": {
     "end_time": "2020-02-13T06:41:44.149967Z",
     "start_time": "2020-02-13T06:41:44.146203Z"
    }
   },
   "outputs": [],
   "source": [
    "import sys, os, time\n",
    "from pathlib import Path"
   ]
  },
  {
   "cell_type": "code",
   "execution_count": 2,
   "metadata": {
    "ExecuteTime": {
     "end_time": "2020-02-13T06:41:56.890021Z",
     "start_time": "2020-02-13T06:41:53.844070Z"
    }
   },
   "outputs": [],
   "source": [
    "import pandas as pd\n",
    "import numpy as np"
   ]
  },
  {
   "cell_type": "code",
   "execution_count": 3,
   "metadata": {
    "ExecuteTime": {
     "end_time": "2020-02-13T06:42:21.454149Z",
     "start_time": "2020-02-13T06:42:19.524504Z"
    }
   },
   "outputs": [],
   "source": [
    "df = pd.read_parquet('../data/MAG_20191122_PaperReferences_subset_parquet/')"
   ]
  },
  {
   "cell_type": "code",
   "execution_count": 4,
   "metadata": {
    "ExecuteTime": {
     "end_time": "2020-02-13T06:42:25.545880Z",
     "start_time": "2020-02-13T06:42:25.535748Z"
    }
   },
   "outputs": [
    {
     "data": {
      "text/plain": [
       "12272705"
      ]
     },
     "execution_count": 4,
     "metadata": {},
     "output_type": "execute_result"
    }
   ],
   "source": [
    "len(df)"
   ]
  },
  {
   "cell_type": "code",
   "execution_count": 11,
   "metadata": {
    "ExecuteTime": {
     "end_time": "2020-02-13T06:46:15.969978Z",
     "start_time": "2020-02-13T06:46:14.893312Z"
    }
   },
   "outputs": [],
   "source": [
    "x = np.concatenate((df.PaperId.values, df.PaperReferenceId.values), axis=0)"
   ]
  },
  {
   "cell_type": "code",
   "execution_count": 12,
   "metadata": {
    "ExecuteTime": {
     "end_time": "2020-02-13T06:46:16.589915Z",
     "start_time": "2020-02-13T06:46:16.581973Z"
    }
   },
   "outputs": [
    {
     "data": {
      "text/plain": [
       "(24545410,)"
      ]
     },
     "execution_count": 12,
     "metadata": {},
     "output_type": "execute_result"
    }
   ],
   "source": [
    "x.shape"
   ]
  },
  {
   "cell_type": "code",
   "execution_count": 13,
   "metadata": {
    "ExecuteTime": {
     "end_time": "2020-02-13T06:46:33.317987Z",
     "start_time": "2020-02-13T06:46:30.777538Z"
    }
   },
   "outputs": [],
   "source": [
    "x = np.unique(x)"
   ]
  },
  {
   "cell_type": "code",
   "execution_count": 14,
   "metadata": {
    "ExecuteTime": {
     "end_time": "2020-02-13T06:46:33.393882Z",
     "start_time": "2020-02-13T06:46:33.388895Z"
    }
   },
   "outputs": [
    {
     "data": {
      "text/plain": [
       "(9917133,)"
      ]
     },
     "execution_count": 14,
     "metadata": {},
     "output_type": "execute_result"
    }
   ],
   "source": [
    "x.shape"
   ]
  },
  {
   "cell_type": "code",
   "execution_count": 17,
   "metadata": {
    "ExecuteTime": {
     "end_time": "2020-02-13T06:47:47.797931Z",
     "start_time": "2020-02-13T06:47:47.790279Z"
    }
   },
   "outputs": [],
   "source": [
    "df_ids = pd.DataFrame(x, columns=['node_name'])"
   ]
  },
  {
   "cell_type": "code",
   "execution_count": 18,
   "metadata": {
    "ExecuteTime": {
     "end_time": "2020-02-13T06:48:06.933970Z",
     "start_time": "2020-02-13T06:48:05.681585Z"
    }
   },
   "outputs": [],
   "source": [
    "df_ids['node_id'] = range(1, len(df_ids)+1)"
   ]
  },
  {
   "cell_type": "code",
   "execution_count": 19,
   "metadata": {
    "ExecuteTime": {
     "end_time": "2020-02-13T06:48:27.381980Z",
     "start_time": "2020-02-13T06:48:25.955340Z"
    }
   },
   "outputs": [],
   "source": [
    "id_map = df_ids.set_index('node_name')['node_id']"
   ]
  },
  {
   "cell_type": "code",
   "execution_count": 20,
   "metadata": {
    "ExecuteTime": {
     "end_time": "2020-02-13T06:49:25.238034Z",
     "start_time": "2020-02-13T06:49:17.777532Z"
    }
   },
   "outputs": [],
   "source": [
    "df['citing_id'] = df.PaperId.map(id_map)\n",
    "df['cited_id'] = df.PaperReferenceId.map(id_map)"
   ]
  },
  {
   "cell_type": "code",
   "execution_count": 21,
   "metadata": {
    "ExecuteTime": {
     "end_time": "2020-02-13T06:49:25.254003Z",
     "start_time": "2020-02-13T06:49:25.240233Z"
    }
   },
   "outputs": [
    {
     "data": {
      "text/html": [
       "<div>\n",
       "<style scoped>\n",
       "    .dataframe tbody tr th:only-of-type {\n",
       "        vertical-align: middle;\n",
       "    }\n",
       "\n",
       "    .dataframe tbody tr th {\n",
       "        vertical-align: top;\n",
       "    }\n",
       "\n",
       "    .dataframe thead th {\n",
       "        text-align: right;\n",
       "    }\n",
       "</style>\n",
       "<table border=\"1\" class=\"dataframe\">\n",
       "  <thead>\n",
       "    <tr style=\"text-align: right;\">\n",
       "      <th></th>\n",
       "      <th>PaperId</th>\n",
       "      <th>PaperReferenceId</th>\n",
       "      <th>citing_id</th>\n",
       "      <th>cited_id</th>\n",
       "    </tr>\n",
       "  </thead>\n",
       "  <tbody>\n",
       "    <tr>\n",
       "      <th>0</th>\n",
       "      <td>36122269</td>\n",
       "      <td>608941</td>\n",
       "      <td>54716</td>\n",
       "      <td>992</td>\n",
       "    </tr>\n",
       "    <tr>\n",
       "      <th>1</th>\n",
       "      <td>181483046</td>\n",
       "      <td>608941</td>\n",
       "      <td>276729</td>\n",
       "      <td>992</td>\n",
       "    </tr>\n",
       "    <tr>\n",
       "      <th>2</th>\n",
       "      <td>2414502251</td>\n",
       "      <td>608941</td>\n",
       "      <td>7611642</td>\n",
       "      <td>992</td>\n",
       "    </tr>\n",
       "    <tr>\n",
       "      <th>3</th>\n",
       "      <td>2956413002</td>\n",
       "      <td>608941</td>\n",
       "      <td>9710307</td>\n",
       "      <td>992</td>\n",
       "    </tr>\n",
       "    <tr>\n",
       "      <th>4</th>\n",
       "      <td>1034756557</td>\n",
       "      <td>608941</td>\n",
       "      <td>522539</td>\n",
       "      <td>992</td>\n",
       "    </tr>\n",
       "    <tr>\n",
       "      <th>...</th>\n",
       "      <td>...</td>\n",
       "      <td>...</td>\n",
       "      <td>...</td>\n",
       "      <td>...</td>\n",
       "    </tr>\n",
       "    <tr>\n",
       "      <th>12272700</th>\n",
       "      <td>2147593526</td>\n",
       "      <td>2945751734</td>\n",
       "      <td>6022614</td>\n",
       "      <td>9599543</td>\n",
       "    </tr>\n",
       "    <tr>\n",
       "      <th>12272701</th>\n",
       "      <td>2165644307</td>\n",
       "      <td>2945751734</td>\n",
       "      <td>6369253</td>\n",
       "      <td>9599543</td>\n",
       "    </tr>\n",
       "    <tr>\n",
       "      <th>12272702</th>\n",
       "      <td>2127895547</td>\n",
       "      <td>2945751734</td>\n",
       "      <td>5644021</td>\n",
       "      <td>9599543</td>\n",
       "    </tr>\n",
       "    <tr>\n",
       "      <th>12272703</th>\n",
       "      <td>2168432963</td>\n",
       "      <td>2945751734</td>\n",
       "      <td>6422690</td>\n",
       "      <td>9599543</td>\n",
       "    </tr>\n",
       "    <tr>\n",
       "      <th>12272704</th>\n",
       "      <td>2096771671</td>\n",
       "      <td>2945751734</td>\n",
       "      <td>5043122</td>\n",
       "      <td>9599543</td>\n",
       "    </tr>\n",
       "  </tbody>\n",
       "</table>\n",
       "<p>12272705 rows × 4 columns</p>\n",
       "</div>"
      ],
      "text/plain": [
       "             PaperId  PaperReferenceId  citing_id  cited_id\n",
       "0           36122269            608941      54716       992\n",
       "1          181483046            608941     276729       992\n",
       "2         2414502251            608941    7611642       992\n",
       "3         2956413002            608941    9710307       992\n",
       "4         1034756557            608941     522539       992\n",
       "...              ...               ...        ...       ...\n",
       "12272700  2147593526        2945751734    6022614   9599543\n",
       "12272701  2165644307        2945751734    6369253   9599543\n",
       "12272702  2127895547        2945751734    5644021   9599543\n",
       "12272703  2168432963        2945751734    6422690   9599543\n",
       "12272704  2096771671        2945751734    5043122   9599543\n",
       "\n",
       "[12272705 rows x 4 columns]"
      ]
     },
     "execution_count": 21,
     "metadata": {},
     "output_type": "execute_result"
    }
   ],
   "source": [
    "df"
   ]
  },
  {
   "cell_type": "code",
   "execution_count": 25,
   "metadata": {
    "ExecuteTime": {
     "end_time": "2020-02-13T15:57:59.101959Z",
     "start_time": "2020-02-13T15:57:51.798417Z"
    }
   },
   "outputs": [],
   "source": [
    "df_ids['node_name'] = df_ids['node_name'].astype(str)"
   ]
  },
  {
   "cell_type": "code",
   "execution_count": 23,
   "metadata": {
    "ExecuteTime": {
     "end_time": "2020-02-13T15:53:01.618807Z",
     "start_time": "2020-02-13T15:53:01.603301Z"
    }
   },
   "outputs": [],
   "source": [
    "outfpath = Path('../data/test_out_pajek.net')\n",
    "outf = outfpath.open('w')"
   ]
  },
  {
   "cell_type": "code",
   "execution_count": 26,
   "metadata": {
    "ExecuteTime": {
     "end_time": "2020-02-13T15:58:28.754098Z",
     "start_time": "2020-02-13T15:58:24.295569Z"
    }
   },
   "outputs": [],
   "source": [
    "quotechar = '\"'\n",
    "df_ids['node_name'] = quotechar + df_ids['node_name'] + quotechar"
   ]
  },
  {
   "cell_type": "code",
   "execution_count": 27,
   "metadata": {
    "ExecuteTime": {
     "end_time": "2020-02-13T15:58:40.021906Z",
     "start_time": "2020-02-13T15:58:40.015595Z"
    }
   },
   "outputs": [
    {
     "data": {
      "text/plain": [
       "18"
      ]
     },
     "execution_count": 27,
     "metadata": {},
     "output_type": "execute_result"
    }
   ],
   "source": [
    "outf.write('*Vertices {}\\n'.format(len(df_ids)))"
   ]
  },
  {
   "cell_type": "code",
   "execution_count": 29,
   "metadata": {
    "ExecuteTime": {
     "end_time": "2020-02-13T16:02:22.153946Z",
     "start_time": "2020-02-13T16:02:22.148395Z"
    }
   },
   "outputs": [],
   "source": [
    "import csv"
   ]
  },
  {
   "cell_type": "code",
   "execution_count": 30,
   "metadata": {
    "ExecuteTime": {
     "end_time": "2020-02-13T16:04:06.569997Z",
     "start_time": "2020-02-13T16:03:58.287296Z"
    }
   },
   "outputs": [],
   "source": [
    "df_ids[['node_id', 'node_name']].to_csv(outf, index=False, sep=' ', header=False, quoting=csv.QUOTE_NONE)"
   ]
  },
  {
   "cell_type": "code",
   "execution_count": 32,
   "metadata": {
    "ExecuteTime": {
     "end_time": "2020-02-13T16:06:39.421867Z",
     "start_time": "2020-02-13T16:06:39.416088Z"
    }
   },
   "outputs": [
    {
     "data": {
      "text/plain": [
       "15"
      ]
     },
     "execution_count": 32,
     "metadata": {},
     "output_type": "execute_result"
    }
   ],
   "source": [
    "outf.write('*Arcs {}\\n'.format(len(df)))"
   ]
  },
  {
   "cell_type": "code",
   "execution_count": 33,
   "metadata": {
    "ExecuteTime": {
     "end_time": "2020-02-13T16:09:30.277898Z",
     "start_time": "2020-02-13T16:09:30.270602Z"
    }
   },
   "outputs": [],
   "source": [
    "outf.flush()"
   ]
  },
  {
   "cell_type": "code",
   "execution_count": 34,
   "metadata": {
    "ExecuteTime": {
     "end_time": "2020-02-13T16:10:56.621949Z",
     "start_time": "2020-02-13T16:10:36.635850Z"
    }
   },
   "outputs": [],
   "source": [
    "df[['citing_id', 'cited_id']].to_csv(outf, index=False, sep=' ', header=False)"
   ]
  },
  {
   "cell_type": "code",
   "execution_count": 35,
   "metadata": {
    "ExecuteTime": {
     "end_time": "2020-02-13T16:11:59.917939Z",
     "start_time": "2020-02-13T16:11:59.912260Z"
    }
   },
   "outputs": [],
   "source": [
    "outf.close()"
   ]
  },
  {
   "cell_type": "code",
   "execution_count": null,
   "metadata": {},
   "outputs": [],
   "source": []
  },
  {
   "cell_type": "code",
   "execution_count": null,
   "metadata": {},
   "outputs": [],
   "source": []
  },
  {
   "cell_type": "code",
   "execution_count": null,
   "metadata": {},
   "outputs": [],
   "source": [
    "outf.close()"
   ]
  }
 ],
 "metadata": {
  "kernelspec": {
   "display_name": "Python 3",
   "language": "python",
   "name": "python3"
  },
  "language_info": {
   "codemirror_mode": {
    "name": "ipython",
    "version": 3
   },
   "file_extension": ".py",
   "mimetype": "text/x-python",
   "name": "python",
   "nbconvert_exporter": "python",
   "pygments_lexer": "ipython3",
   "version": "3.7.1"
  }
 },
 "nbformat": 4,
 "nbformat_minor": 4
}
